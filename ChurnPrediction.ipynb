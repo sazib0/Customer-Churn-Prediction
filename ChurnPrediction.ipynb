{
 "cells": [
  {
   "cell_type": "code",
   "execution_count": 6,
   "metadata": {},
   "outputs": [],
   "source": [
    "import ml_loader as ml # Import library\n",
    "import numpy as np # linear algebra\n",
    "import pandas as pd\n",
    "import seaborn as sns\n",
    "import matplotlib.pyplot as plt\n",
    "from sklearn.model_selection import train_test_split, GridSearchCV, cross_val_score\n",
    "from sklearn.preprocessing import StandardScaler, LabelEncoder\n",
    "from sklearn.metrics import classification_report, confusion_matrix, roc_auc_score, roc_curve\n",
    "from sklearn.linear_model import LogisticRegression\n",
    "from sklearn.tree import DecisionTreeClassifier\n",
    "from sklearn.ensemble import RandomForestClassifier\n",
    "from sklearn.utils import resample\n",
    "import joblib"
   ]
  },
  {
   "cell_type": "code",
   "execution_count": 4,
   "metadata": {},
   "outputs": [],
   "source": [
    "data = ml.load_data('Telco_customer_churn.xlsx')  "
   ]
  },
  {
   "cell_type": "code",
   "execution_count": 5,
   "metadata": {},
   "outputs": [
    {
     "name": "stdout",
     "output_type": "stream",
     "text": [
      "<class 'pandas.core.frame.DataFrame'>\n",
      "RangeIndex: 7043 entries, 0 to 7042\n",
      "Data columns (total 33 columns):\n",
      " #   Column             Non-Null Count  Dtype  \n",
      "---  ------             --------------  -----  \n",
      " 0   CustomerID         7043 non-null   object \n",
      " 1   Count              7043 non-null   int64  \n",
      " 2   Country            7043 non-null   object \n",
      " 3   State              7043 non-null   object \n",
      " 4   City               7043 non-null   object \n",
      " 5   Zip Code           7043 non-null   int64  \n",
      " 6   Lat Long           7043 non-null   object \n",
      " 7   Latitude           7043 non-null   float64\n",
      " 8   Longitude          7043 non-null   float64\n",
      " 9   Gender             7043 non-null   object \n",
      " 10  Senior Citizen     7043 non-null   object \n",
      " 11  Partner            7043 non-null   object \n",
      " 12  Dependents         7043 non-null   object \n",
      " 13  Tenure Months      7043 non-null   int64  \n",
      " 14  Phone Service      7043 non-null   object \n",
      " 15  Multiple Lines     7043 non-null   object \n",
      " 16  Internet Service   7043 non-null   object \n",
      " 17  Online Security    7043 non-null   object \n",
      " 18  Online Backup      7043 non-null   object \n",
      " 19  Device Protection  7043 non-null   object \n",
      " 20  Tech Support       7043 non-null   object \n",
      " 21  Streaming TV       7043 non-null   object \n",
      " 22  Streaming Movies   7043 non-null   object \n",
      " 23  Contract           7043 non-null   object \n",
      " 24  Paperless Billing  7043 non-null   object \n",
      " 25  Payment Method     7043 non-null   object \n",
      " 26  Monthly Charges    7043 non-null   float64\n",
      " 27  Total Charges      7043 non-null   object \n",
      " 28  Churn Label        7043 non-null   object \n",
      " 29  Churn Value        7043 non-null   int64  \n",
      " 30  Churn Score        7043 non-null   int64  \n",
      " 31  CLTV               7043 non-null   int64  \n",
      " 32  Churn Reason       1869 non-null   object \n",
      "dtypes: float64(3), int64(6), object(24)\n",
      "memory usage: 1.8+ MB\n",
      "None\n",
      "        Count      Zip Code     Latitude    Longitude  Tenure Months  \\\n",
      "count  7043.0   7043.000000  7043.000000  7043.000000    7043.000000   \n",
      "mean      1.0  93521.964646    36.282441  -119.798880      32.371149   \n",
      "std       0.0   1865.794555     2.455723     2.157889      24.559481   \n",
      "min       1.0  90001.000000    32.555828  -124.301372       0.000000   \n",
      "25%       1.0  92102.000000    34.030915  -121.815412       9.000000   \n",
      "50%       1.0  93552.000000    36.391777  -119.730885      29.000000   \n",
      "75%       1.0  95351.000000    38.224869  -118.043237      55.000000   \n",
      "max       1.0  96161.000000    41.962127  -114.192901      72.000000   \n",
      "\n",
      "       Monthly Charges  Churn Value  Churn Score         CLTV  \n",
      "count      7043.000000  7043.000000  7043.000000  7043.000000  \n",
      "mean         64.761692     0.265370    58.699418  4400.295755  \n",
      "std          30.090047     0.441561    21.525131  1183.057152  \n",
      "min          18.250000     0.000000     5.000000  2003.000000  \n",
      "25%          35.500000     0.000000    40.000000  3469.000000  \n",
      "50%          70.350000     0.000000    61.000000  4527.000000  \n",
      "75%          89.850000     1.000000    75.000000  5380.500000  \n",
      "max         118.750000     1.000000   100.000000  6500.000000  \n",
      "   CustomerID  Count        Country       State         City  Zip Code  \\\n",
      "0  3668-QPYBK      1  United States  California  Los Angeles     90003   \n",
      "1  9237-HQITU      1  United States  California  Los Angeles     90005   \n",
      "2  9305-CDSKC      1  United States  California  Los Angeles     90006   \n",
      "3  7892-POOKP      1  United States  California  Los Angeles     90010   \n",
      "4  0280-XJGEX      1  United States  California  Los Angeles     90015   \n",
      "\n",
      "                 Lat Long   Latitude   Longitude  Gender  ...        Contract  \\\n",
      "0  33.964131, -118.272783  33.964131 -118.272783    Male  ...  Month-to-month   \n",
      "1   34.059281, -118.30742  34.059281 -118.307420  Female  ...  Month-to-month   \n",
      "2  34.048013, -118.293953  34.048013 -118.293953  Female  ...  Month-to-month   \n",
      "3  34.062125, -118.315709  34.062125 -118.315709  Female  ...  Month-to-month   \n",
      "4  34.039224, -118.266293  34.039224 -118.266293    Male  ...  Month-to-month   \n",
      "\n",
      "  Paperless Billing             Payment Method  Monthly Charges Total Charges  \\\n",
      "0               Yes               Mailed check            53.85        108.15   \n",
      "1               Yes           Electronic check            70.70        151.65   \n",
      "2               Yes           Electronic check            99.65         820.5   \n",
      "3               Yes           Electronic check           104.80       3046.05   \n",
      "4               Yes  Bank transfer (automatic)           103.70        5036.3   \n",
      "\n",
      "  Churn Label Churn Value Churn Score  CLTV                   Churn Reason  \n",
      "0         Yes           1          86  3239   Competitor made better offer  \n",
      "1         Yes           1          67  2701                          Moved  \n",
      "2         Yes           1          86  5372                          Moved  \n",
      "3         Yes           1          84  5003                          Moved  \n",
      "4         Yes           1          89  5340  Competitor had better devices  \n",
      "\n",
      "[5 rows x 33 columns]\n"
     ]
    }
   ],
   "source": [
    "# Display basic info\n",
    "print(data.info())\n",
    "print(data.describe())\n",
    "print(data.head())"
   ]
  },
  {
   "cell_type": "code",
   "execution_count": 8,
   "metadata": {},
   "outputs": [],
   "source": [
    "# Define the target variable and separate features and target\n",
    "target = 'Churn Value'  # Use 'Churn Label' if you want to work with Yes/No labels\n",
    "X = data.drop(columns=[target])\n",
    "y = data[target]\n",
    "\n",
    "# If using 'Churn Label' (Yes/No), convert it to binary\n",
    "if target == 'Churn Label':\n",
    "    le = LabelEncoder()\n",
    "    y = le.fit_transform(y)  # 'Yes' -> 1, 'No' -> 0\n"
   ]
  },
  {
   "cell_type": "code",
   "execution_count": 9,
   "metadata": {},
   "outputs": [
    {
     "name": "stdout",
     "output_type": "stream",
     "text": [
      "[1 0]\n"
     ]
    }
   ],
   "source": [
    "print(y.unique())  # This should print `[0, 1]` if using 'Churn Label' or directly from 'Churn Value'\n"
   ]
  },
  {
   "cell_type": "code",
   "execution_count": null,
   "metadata": {},
   "outputs": [],
   "source": [
    "# Handling missing values\n",
    "# Fill numerical NaNs with the median\n",
    "for column in X.select_dtypes(include=['float64', 'int64']).columns:\n",
    "    X[column] = X[column].fillna(X[column].median())\n",
    "\n",
    "# Fill categorical NaNs with the mode\n",
    "for column in X.select_dtypes(include=['object']).columns:\n",
    "    X[column] = X[column].fillna(X[column].mode().iloc[0])\n"
   ]
  },
  {
   "cell_type": "code",
   "execution_count": 13,
   "metadata": {},
   "outputs": [],
   "source": [
    "# Encoding categorical variables\n",
    "X = pd.get_dummies(X, drop_first=True)"
   ]
  }
 ],
 "metadata": {
  "kernelspec": {
   "display_name": ".venv",
   "language": "python",
   "name": "python3"
  },
  "language_info": {
   "codemirror_mode": {
    "name": "ipython",
    "version": 3
   },
   "file_extension": ".py",
   "mimetype": "text/x-python",
   "name": "python",
   "nbconvert_exporter": "python",
   "pygments_lexer": "ipython3",
   "version": "3.12.3"
  }
 },
 "nbformat": 4,
 "nbformat_minor": 2
}
